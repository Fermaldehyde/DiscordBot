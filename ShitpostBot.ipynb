{
 "cells": [
  {
   "cell_type": "code",
   "execution_count": 1,
   "metadata": {
    "collapsed": false
   },
   "outputs": [],
   "source": [
    "import markovify #Markov Chains\n",
    "import json #JSON reading- for Markov Chains\n",
    "import discord #Discord\n",
    "from discord.ext import commands #Discord Commands\n",
    "import re #Regex\n",
    "import random #Random Number Generation\n",
    "import time #To rate limit our bot so we don't get in trouble\n",
    "from random import randint #Specifically for straight integers"
   ]
  },
  {
   "cell_type": "code",
   "execution_count": 2,
   "metadata": {
    "collapsed": false
   },
   "outputs": [],
   "source": [
    "description = 'Primarily, this bot shitposts. But sometimes, with the power of love, it can do something useful.'\n",
    "bot = commands.Bot(command_prefix = '?', description = description)\n",
    "token = ''\n",
    "#Descriptive Info and Token\n",
    "\n",
    "@bot.event\n",
    "async def on_ready():\n",
    "    print('Logged in as')\n",
    "    print(bot.user.name)\n",
    "    print(bot.user.id)\n",
    "    print('--------')\n",
    "#Lets us know when the bot is online"
   ]
  },
  {
   "cell_type": "code",
   "execution_count": 3,
   "metadata": {
    "collapsed": false
   },
   "outputs": [],
   "source": [
    "@bot.command()\n",
    "async def calories(height, weight, gender, age, metric = False):\n",
    "    #Mifflin-St Jeor Equation is, for men:\n",
    "    #10 x Weight (kg) + 6.25 x Height (cm) - 5 x Age + 5\n",
    "    #For women:\n",
    "    #10 x Weight + 6.25 x Height + - 5 x Age - 161\n",
    "    #Activity Multipliers are: 1.2 (sedentary), 1.3 (moderate), 1.4 (active)\n",
    "    \n",
    "    #It is assumed that they're going to send the information using US measurements (inches and pounds), so we'll need to convert\n",
    "    #An option to accomodate metric input is present\n",
    "    \n",
    "    #Inches to cm = 2.54\n",
    "    #Pound to kg = 0.453592\n",
    "    \n",
    "    h = 0\n",
    "    w = 0\n",
    "    #We'll use this to modify the user supplied height\n",
    "    \n",
    "    if gender not in ['m', 'M', 'f', 'F']:\n",
    "        await bot.say('Inccorect Gender Format')\n",
    "        return\n",
    "    \n",
    "    if not float(age).is_integer():\n",
    "        await bot.say('Incorrect Age Format')\n",
    "        return\n",
    "    \n",
    "    if metric == False:\n",
    "        #Check Height Measurement\n",
    "        height = str(height)\n",
    "        weight = str(weight)\n",
    "        #Convert these to strings so we can perform regex on them\n",
    "        \n",
    "        if re.match(r\"^[4-6]\\'\\d{1,2}$\", height):\n",
    "            #Check for a format like: 5'11\n",
    "            h = 2.54 * (12 * int(height[0]) + int(height[-2:]))\n",
    "            \n",
    "        if re.match(r'^[0-9]{2}$', height):\n",
    "            #This format is just two numbes- so probably inches\n",
    "            h = 2.54 * int(height)\n",
    "        \n",
    "        if re.match(r'^[4-6]\\.[0-9]{1,2}$', height):\n",
    "            #If we get something like 5.11\n",
    "            if height[-2:-1] == '.': \n",
    "                #Check if the character two from the end is a decimal\n",
    "                #If it is, we only need to grab the last digit\n",
    "                h = 2.54 * (12 * int(height[0]) + int(height[-1:]))\n",
    "            else:\n",
    "                h = 2.54 * (12 * int(height[0]) + int(height[-2:]))\n",
    "        \n",
    "        if re.match(r\"^[0-9]{3}$\", weight):\n",
    "            w = int(weight) * 0.453592\n",
    "    \n",
    "    else: #If we're using metric measurements\n",
    "        \n",
    "        if re.match(r'^[0-9]{2,3}$', str(height)):\n",
    "            #We're going to verify that we're just getting everything in cm\n",
    "            h = height\n",
    "        \n",
    "        if re.match(r\"^[0-9]{2,3}$\", str(weight)):\n",
    "            w = weight\n",
    "    \n",
    "    if h == 0:\n",
    "        await bot.say('Incorrect Height Format')\n",
    "        return\n",
    "    if w == 0:\n",
    "        await bot.say('Incorrect Weight Format')\n",
    "        return\n",
    "    #Verify height and weight are correctly formatted\n",
    "        \n",
    "    calories = (10 * w) + (6.25 * h) - (5 * float(age))\n",
    "    if gender in ['M', 'm']:\n",
    "        calories = calories + 5\n",
    "    else:\n",
    "        calories = calories - 161\n",
    "    #Compute caloric needs here\n",
    "    \n",
    "    calories = round(calories, 2)\n",
    "    result_components = ['At a height of', str(round(h, 2)), 'cm, a weight of', str(round(w, 2)), 'kg, an age of', str(age), \n",
    "                         'years old', 'and given your gender, your caloric needs are', str(round(1.2 * calories)), \n",
    "                         'if you are sedentary,',  str(round(1.3 * calories)),\n",
    "                        'if you are moderately active, and', str(round(1.4 * calories)), 'if you are highly active.']\n",
    "    result = ' '.join(result_components)\n",
    "    #Take all of our components and then combine them into a single message\n",
    "                         \n",
    "    await  bot.say(result)"
   ]
  },
  {
   "cell_type": "code",
   "execution_count": 4,
   "metadata": {
    "collapsed": true
   },
   "outputs": [],
   "source": [
    "@bot.command()\n",
    "async def commands():\n",
    "    command_info = ['Command: Calories \\nFormat: Height (inches, or feet.inches or cm)\\n Weight (pounds or kg)\\n Gender (m or f)\\n Age (Years)\\n Follow with True if using Metric Measurements',\n",
    "                   '\\n\\nCommand: gg \\nGenerates GGs',\n",
    "                   '\\n\\nCommand: dice \\nFormat: Number (Anything above one)\\nRolls an x-sided dice']\n",
    "    \n",
    "    await bot.say('\\n\\n'.join(command_info))"
   ]
  },
  {
   "cell_type": "code",
   "execution_count": 5,
   "metadata": {
    "collapsed": true
   },
   "outputs": [],
   "source": [
    "@bot.command()\n",
    "async def gg():\n",
    "    gg_list = ['GG']\n",
    "    await bot.say(gg_list[0])\n",
    "    while True:\n",
    "        ggadd = randint(0, 9)\n",
    "        new_ggs = ['G'] * ggadd\n",
    "        gg_list = gg_list + new_ggs\n",
    "        #Add 0-9 gg's to our list\n",
    "        \n",
    "        gg_multiply = randint(0, 3)\n",
    "        if gg_multiply == 3:\n",
    "            gg_list = gg_list + gg_list\n",
    "        #One in four chance the number of gg's doubles\n",
    "        result = ''.join(gg_list)\n",
    "        await bot.say(result)\n",
    "        \n",
    "        gg_cancel = randint(0, 15)\n",
    "        if gg_cancel == 0:\n",
    "            await bot.say('ez')\n",
    "            break\n",
    "        #Chance of the bot just stopping\n",
    "        \n",
    "        time.sleep(1)\n",
    "        #One message per second\n",
    "    "
   ]
  },
  {
   "cell_type": "code",
   "execution_count": null,
   "metadata": {
    "collapsed": true
   },
   "outputs": [],
   "source": [
    "@bot.command()\n",
    "async def dice(sides):\n",
    "    #Discord passes everything through is a string, so we have to do some input validation\n",
    "    \n",
    "    try:\n",
    "        int(sides)\n",
    "    except:\n",
    "        await bot.say(\"I need something numeric\")\n",
    "        return\n",
    "    #Catch anything that's a string\n",
    "    \n",
    "    if not float(sides).is_integer():\n",
    "        await bot.say('I need an integer')\n",
    "        return\n",
    "    #Catch decimals\n",
    "    \n",
    "    if int(sides) <= 1:\n",
    "        await bot.say('I need more sides')\n",
    "        return\n",
    "    #Make sure we have enough sides to roll on\n",
    "    \n",
    "    roll = randint(1, int(sides))\n",
    "    await bot.say(str(roll))"
   ]
  },
  {
   "cell_type": "code",
   "execution_count": null,
   "metadata": {
    "collapsed": false
   },
   "outputs": [
    {
     "name": "stdout",
     "output_type": "stream",
     "text": [
      "Logged in as\n",
      "Shitpostbot\n",
      "454063369612296213\n",
      "--------\n"
     ]
    }
   ],
   "source": [
    "bot.run(token)\n",
    "bot.say('Shitpostbot Online')"
   ]
  }
 ],
 "metadata": {
  "anaconda-cloud": {},
  "kernelspec": {
   "display_name": "Python [conda root]",
   "language": "python",
   "name": "conda-root-py"
  },
  "language_info": {
   "codemirror_mode": {
    "name": "ipython",
    "version": 3
   },
   "file_extension": ".py",
   "mimetype": "text/x-python",
   "name": "python",
   "nbconvert_exporter": "python",
   "pygments_lexer": "ipython3",
   "version": "3.5.2"
  }
 },
 "nbformat": 4,
 "nbformat_minor": 1
}
